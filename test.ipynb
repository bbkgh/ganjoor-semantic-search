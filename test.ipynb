{
 "cells": [
  {
   "metadata": {
    "ExecuteTime": {
     "end_time": "2024-05-01T16:57:06.757410Z",
     "start_time": "2024-05-01T16:57:06.655586Z"
    }
   },
   "cell_type": "code",
   "source": [
    "# download ganjoor db\n",
    "import os\n",
    "import zipfile\n",
    "import requests\n",
    "\n",
    "if not os.path.exists('ganjoor.s3db'):\n",
    "    url = 'https://github.com/ganjoor/desktop/releases/download/v2.81/ganjoor.s3db.zip'\n",
    "    response = requests.get(url)\n",
    "    with open('ganjoor.zip', 'wb') as f:\n",
    "        f.write(response.content)\n",
    "    with zipfile.ZipFile('ganjoor.zip', 'r') as zip_ref:\n",
    "        zip_ref.extractall('ganjoor.s3db')"
   ],
   "id": "22d44ffeea68294a",
   "outputs": [],
   "execution_count": 1
  },
  {
   "cell_type": "code",
   "id": "initial_id",
   "metadata": {
    "collapsed": true,
    "ExecuteTime": {
     "end_time": "2024-05-03T07:00:14.111360Z",
     "start_time": "2024-05-03T07:00:04.584615Z"
    }
   },
   "source": [
    "# load poems\n",
    "import sqlite3\n",
    "\n",
    "connection = sqlite3.connect('ganjoor.s3db')\n",
    "cursor = connection.cursor()\n",
    "\n",
    "query = \"\"\"SELECT  group_concat(verse.text, '           ') AS verses_concatenated, cat.text, poet.name\n",
    "FROM verse\n",
    "JOIN poem ON verse.poem_id = poem.id\n",
    "JOIN cat ON poem.cat_id = cat.id\n",
    "JOIN poet ON cat.poet_id = poet.id\n",
    "GROUP BY poem.id;\n",
    "\"\"\"\n",
    "cursor.execute(query)\n",
    "results = cursor.fetchall()\n",
    "print(len(results))\n",
    "connection.close()\n",
    "\n"
   ],
   "outputs": [
    {
     "name": "stdout",
     "output_type": "stream",
     "text": [
      "63785\n"
     ]
    }
   ],
   "execution_count": 1
  },
  {
   "metadata": {
    "ExecuteTime": {
     "end_time": "2024-05-03T08:07:36.111339Z",
     "start_time": "2024-05-03T08:05:55.597941Z"
    }
   },
   "cell_type": "code",
   "source": [
    "# embed poems\n",
    "from sentence_transformers import SentenceTransformer\n",
    "\n",
    "texts_to_embed = [\"    \".join(result) for result in results][:10]\n",
    "\n",
    "model = SentenceTransformer(\"sentence-transformers/paraphrase-multilingual-mpnet-base-v2\")  # device=\"cuda\"\n",
    "\n",
    "embeddings = model.encode(texts_to_embed)\n"
   ],
   "id": "e0c30c4dd4da5373",
   "outputs": [],
   "execution_count": 4
  },
  {
   "metadata": {
    "ExecuteTime": {
     "end_time": "2024-04-29T18:02:54.281062Z",
     "start_time": "2024-04-29T18:02:53.130066Z"
    }
   },
   "cell_type": "code",
   "source": [
    "# Connect to Qdrant\n",
    "from qdrant_client import QdrantClient\n",
    "from qdrant_client.http.models import VectorParams, Distance\n",
    "\n",
    "client = QdrantClient(host=\"localhost\", port=6333)\n",
    "if not client.collection_exists('ganjoor'):\n",
    "    client.create_collection(\n",
    "        collection_name='ganjoor',\n",
    "        vectors_config=VectorParams(\n",
    "            size=768,\n",
    "            distance=Distance.COSINE,\n",
    "        ),\n",
    "    )"
   ],
   "id": "7f026f9c38c8c861",
   "outputs": [],
   "execution_count": 26
  },
  {
   "metadata": {
    "ExecuteTime": {
     "end_time": "2024-04-29T18:03:12.622283Z",
     "start_time": "2024-04-29T18:03:11.318513Z"
    }
   },
   "cell_type": "code",
   "source": [
    "from qdrant_client import QdrantClient\n",
    "from qdrant_client.http.models import PointStruct\n",
    "\n",
    "for i, (sentence, embedding) in enumerate(zip(texts_to_embed, embeddings)):\n",
    "    points = [PointStruct(\n",
    "        id=i,\n",
    "        vector=embedding.astype('float32').tolist(),\n",
    "        payload={\n",
    "            \"sentence\": sentence\n",
    "        },\n",
    "    )\n",
    "    ]\n",
    "    # Upload points to a collection\n",
    "    client.upsert(collection_name=\"ganjoor\", points=points)\n",
    "\n"
   ],
   "id": "3b5e78ac2320e733",
   "outputs": [],
   "execution_count": 27
  },
  {
   "metadata": {
    "ExecuteTime": {
     "end_time": "2024-04-29T18:10:20.970838Z",
     "start_time": "2024-04-29T18:10:20.947193Z"
    }
   },
   "cell_type": "code",
   "source": [
    "# query = \"حافظ رفت میکده یه نفر بهش گفت که برو خودت رو بشور بعد بیا اینجا که آلوده نشه\"\n",
    "# query = \"مست رو سرزنش نکن\"\n",
    "\n",
    "\n",
    "def search(query, limit=1):\n",
    "    query_vector = model.encode(query)\n",
    "\n",
    "    # Search in the Qdrant collection\n",
    "    response = client.search(\n",
    "        collection_name=\"ganjoor\",\n",
    "        query_vector=query_vector,\n",
    "        limit=limit\n",
    "    )\n",
    "    return response[0].payload['sentence']\n"
   ],
   "id": "8db27c60397cf940",
   "outputs": [],
   "execution_count": 35
  },
  {
   "metadata": {
    "ExecuteTime": {
     "end_time": "2024-04-29T18:10:24.157076Z",
     "start_time": "2024-04-29T18:10:22.591382Z"
    }
   },
   "cell_type": "code",
   "source": [
    "import gradio as gr\n",
    "\n",
    "\n",
    "demo = gr.Interface(\n",
    "    fn=search,\n",
    "    inputs=[\"text\", ],\n",
    "    outputs=[\"text\"],\n",
    ")\n",
    "\n",
    "demo.launch()"
   ],
   "id": "68663163f5492fdb",
   "outputs": [
    {
     "name": "stdout",
     "output_type": "stream",
     "text": [
      "Running on local URL:  http://127.0.0.1:7860\n",
      "\n",
      "To create a public link, set `share=True` in `launch()`.\n"
     ]
    },
    {
     "data": {
      "text/plain": [
       "<IPython.core.display.HTML object>"
      ],
      "text/html": [
       "<div><iframe src=\"http://127.0.0.1:7860/\" width=\"100%\" height=\"500\" allow=\"autoplay; camera; microphone; clipboard-read; clipboard-write;\" frameborder=\"0\" allowfullscreen></iframe></div>"
      ]
     },
     "metadata": {},
     "output_type": "display_data"
    },
    {
     "data": {
      "text/plain": []
     },
     "execution_count": 36,
     "metadata": {},
     "output_type": "execute_result"
    }
   ],
   "execution_count": 36
  }
 ],
 "metadata": {
  "kernelspec": {
   "display_name": "Python 3",
   "language": "python",
   "name": "python3"
  },
  "language_info": {
   "codemirror_mode": {
    "name": "ipython",
    "version": 2
   },
   "file_extension": ".py",
   "mimetype": "text/x-python",
   "name": "python",
   "nbconvert_exporter": "python",
   "pygments_lexer": "ipython2",
   "version": "2.7.6"
  }
 },
 "nbformat": 4,
 "nbformat_minor": 5
}
